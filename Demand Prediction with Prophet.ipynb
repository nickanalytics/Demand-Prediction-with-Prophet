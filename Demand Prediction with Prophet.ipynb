{
 "cells": [
  {
   "cell_type": "code",
   "execution_count": 1,
   "metadata": {},
   "outputs": [
    {
     "name": "stderr",
     "output_type": "stream",
     "text": [
      "c:\\Users\\nico_\\anaconda3\\envs\\ml-flow\\Lib\\site-packages\\tqdm\\auto.py:21: TqdmWarning: IProgress not found. Please update jupyter and ipywidgets. See https://ipywidgets.readthedocs.io/en/stable/user_install.html\n",
      "  from .autonotebook import tqdm as notebook_tqdm\n"
     ]
    }
   ],
   "source": [
    "import pandas as pd\n",
    "from prophet import Prophet\n",
    "import mlflow\n",
    "import warnings\n",
    "warnings.filterwarnings(\"ignore\")"
   ]
  },
  {
   "cell_type": "code",
   "execution_count": 9,
   "metadata": {},
   "outputs": [
    {
     "name": "stdout",
     "output_type": "stream",
     "text": [
      "{'name': 'mlflow-env', 'channels': ['conda-forge'], 'dependencies': ['python=3.11.5', 'pip<=23.3.1', {'pip': ['mlflow==2.8.1', 'prophet==1.1.5']}]}\n",
      "['prophet==1.1.5']\n"
     ]
    }
   ],
   "source": [
    "print(mlflow.prophet.get_default_conda_env())\n",
    "print(mlflow.prophet.get_default_pip_requirements())"
   ]
  },
  {
   "cell_type": "code",
   "execution_count": 2,
   "metadata": {},
   "outputs": [],
   "source": [
    "class ProphetModel(mlflow.pyfunc.PythonModel):\n",
    "    def __init__(self, model):\n",
    "        self.model = model\n",
    "        super().__init__()\n",
    "\n",
    "    def predict(self, context, model_input):\n",
    "        future = self.model.make_future_dataframe(periods=model_input['periods'][0])\n",
    "        return self.model.predict(future)"
   ]
  },
  {
   "cell_type": "code",
   "execution_count": 3,
   "metadata": {},
   "outputs": [],
   "source": [
    "df = pd.read_csv(r'C:\\Users\\nico_\\OneDrive\\Portfolio\\Stock Level Predictions\\data\\sales.csv', encoding='latin1')\n",
    "\n",
    "# Assuming 'Order Date' is your date column and 'Order Quantity' is what you want to predict\n",
    "df = df[['date', 'qty', 'prod_code']]\n",
    "df.columns = ['ds', 'y', 'prod_code']\n",
    "\n",
    "# Get list of unique products\n",
    "products = df['prod_code'].unique()"
   ]
  },
  {
   "cell_type": "code",
   "execution_count": 4,
   "metadata": {},
   "outputs": [
    {
     "data": {
      "text/html": [
       "<div>\n",
       "<style scoped>\n",
       "    .dataframe tbody tr th:only-of-type {\n",
       "        vertical-align: middle;\n",
       "    }\n",
       "\n",
       "    .dataframe tbody tr th {\n",
       "        vertical-align: top;\n",
       "    }\n",
       "\n",
       "    .dataframe thead th {\n",
       "        text-align: right;\n",
       "    }\n",
       "</style>\n",
       "<table border=\"1\" class=\"dataframe\">\n",
       "  <thead>\n",
       "    <tr style=\"text-align: right;\">\n",
       "      <th></th>\n",
       "      <th>ds</th>\n",
       "      <th>y</th>\n",
       "      <th>prod_code</th>\n",
       "    </tr>\n",
       "  </thead>\n",
       "  <tbody>\n",
       "    <tr>\n",
       "      <th>0</th>\n",
       "      <td>2017-03-09</td>\n",
       "      <td>5</td>\n",
       "      <td>Go-Wo-NMDVGP</td>\n",
       "    </tr>\n",
       "    <tr>\n",
       "      <th>1</th>\n",
       "      <td>2015-01-13</td>\n",
       "      <td>5</td>\n",
       "      <td>Go-Wo-NMDVGP</td>\n",
       "    </tr>\n",
       "    <tr>\n",
       "      <th>2</th>\n",
       "      <td>2015-01-28</td>\n",
       "      <td>5</td>\n",
       "      <td>Go-Wo-NMDVGP</td>\n",
       "    </tr>\n",
       "    <tr>\n",
       "      <th>3</th>\n",
       "      <td>2015-01-21</td>\n",
       "      <td>5</td>\n",
       "      <td>Go-Wo-NMDVGP</td>\n",
       "    </tr>\n",
       "    <tr>\n",
       "      <th>4</th>\n",
       "      <td>2015-01-24</td>\n",
       "      <td>5</td>\n",
       "      <td>Go-Wo-NMDVGP</td>\n",
       "    </tr>\n",
       "  </tbody>\n",
       "</table>\n",
       "</div>"
      ],
      "text/plain": [
       "           ds  y     prod_code\n",
       "0  2017-03-09  5  Go-Wo-NMDVGP\n",
       "1  2015-01-13  5  Go-Wo-NMDVGP\n",
       "2  2015-01-28  5  Go-Wo-NMDVGP\n",
       "3  2015-01-21  5  Go-Wo-NMDVGP\n",
       "4  2015-01-24  5  Go-Wo-NMDVGP"
      ]
     },
     "execution_count": 4,
     "metadata": {},
     "output_type": "execute_result"
    }
   ],
   "source": [
    "df.head()"
   ]
  },
  {
   "cell_type": "code",
   "execution_count": 5,
   "metadata": {},
   "outputs": [
    {
     "data": {
      "text/plain": [
       "array(['Go-Wo-NMDVGP', 'Fa-In-OMNLV', 'Go-Sh-UAGTSSR', 'Ou-Tr-GIUBGT',\n",
       "       'Go-Gi-NMDWWB', 'Fo-Ca-NWTS', 'Ou-El-TPVGB', 'Ou-El-TPVHNPG',\n",
       "       'Ou-Go-HWHGG', 'Go-Gi-aYGBAMS', 'Ou-Tr-GIWMO3CAG', 'Ou-Go-C8SB',\n",
       "       'Ou-Go-LWESGP', 'Fo-El-UAWIPVS', 'Ou-Tr-GIIGT', 'Ou-El-BeSDNSD',\n",
       "       'Fo-El-UAWIS', 'Ou-Go-GIWIGG', 'Go-Gi-TBTDJ', 'Fo-El-UAKMS',\n",
       "       'Fi-Ba-aMFMTFSC', 'Ou-Go-HWSFGG', 'Fi-Te-NMC2S', 'Ou-El-BeSDNC',\n",
       "       'Ou-Go-CRCB', 'Fo-Fi-UAHSMDB', 'Ou-El-BeSDNT', 'Fo-Bo-UAWMGSRS',\n",
       "       'Ou-Go-GIWMOGG', 'Go-Sh-CMPATT', 'Fa-Hu-EAHS', 'Fo-El-UAMCESS',\n",
       "       'Ou-Go-TFW2XH', 'Ou-Go-HMHGG', 'Fi-Ho-NDCS6P', 'Fi-Ba-aKFMFSC',\n",
       "       'Ou-El-TPVHNGB', 'Fo-As-NMFT5TTS', 'Fi-So-ETM2', 'Ou-Ki-PFHRM',\n",
       "       'Fo-Bo-BWG6RS', 'Ou-Wo-TWSIP', 'Fo-Bo-NWF5TFP4TS', 'Ou-Go-LWMPGS',\n",
       "       'Ou-Go-BBMPC', 'Ou-Me-MWGSHS', 'Fa-Hu-TNFWRB', 'Ou-Go-BBBH',\n",
       "       'Ou-Ac-TGSFGPG', 'Fi-Ho-NWLVT', 'Ou-Ac-TGTLPG', 'Go-Gi-aMGBCAT',\n",
       "       'Ou-Ac-TGNEPPG', 'Ou-Ac-TGTVPG', 'Ou-Ac-TGSLCPG', 'Ou-Ac-TGPSPG',\n",
       "       'Fi-La-UAMTIT', 'Fi-La-NKGSKVBS', 'Ou-Go-LWAGP', 'Ou-Ki-FTOWA&ST',\n",
       "       'Ou-Wo-MPPP', 'Fo-Ca-NMF5RS', 'Ap-Cl-PFPRD', 'Ou-Me-MWGSWH',\n",
       "       'Ou-Go-ORGS', 'Ou-Go-TWRSR', 'Fi-Ba-aB2OMB', 'Ou-Me-MMAOFTRS',\n",
       "       'Fo-St-YDAHM4R', 'Ou-Ki-MAHRMW', 'Ou-Go-T2PSB', 'Fa-Hu-iNAM',\n",
       "       'Ou-Ki-PLAT', 'Go-Sh-NMKIELBS', 'Ou-Wo-CGCMCW5', 'Ou-Go-LWBGD',\n",
       "       'Ou-Tr-GASGGW', 'Fi-So-NMFMTS', 'Ou-Go-TSWTC', 'Ou-Ki-GVGW',\n",
       "       'Ou-Me-MWSMWHB', 'Ou-Go-CGW5RCSC', 'Ou-Go-TCGTC', 'Fa-Wa-PM1K',\n",
       "       'Bo-Bo-SB', 'Ap-Ba-Bs', 'Di-CD-Cor', 'Te-Ca-WC', 'Te-Co-Ice',\n",
       "       'Ap-Cr-Pc', 'Di-DV-D', 'Ou-Ga-Lm', 'Pe-Pe-Ads', 'Fi-Sp-Sw',\n",
       "       'Fa-To-T', 'Ap-Wo-Sd', 'He-He-Fak', 'Ap-Me-Mgs', 'Di-Mu-Rm',\n",
       "       'Ap-Cl-TG1', 'Fi-Ba-DGC2HB2', 'Fo-St-GHBEC', 'Fi-Ba-DBI2PH',\n",
       "       'Ou-Ki-GF9GW', 'Ou-Ki-GASGGW', 'Fi-Ho-SMSSCI', 'Ap-Ch-Ch',\n",
       "       'Di-Vi-Fvg', 'Fa-Ca-DWSCCB', 'Fa-Wa-PS1K', 'Fa-Fi-F&SS1GFS',\n",
       "       'Ap-Me-NMCE2TFC'], dtype=object)"
      ]
     },
     "execution_count": 5,
     "metadata": {},
     "output_type": "execute_result"
    }
   ],
   "source": [
    "products"
   ]
  },
  {
   "cell_type": "code",
   "execution_count": 6,
   "metadata": {},
   "outputs": [
    {
     "name": "stderr",
     "output_type": "stream",
     "text": [
      "17:34:43 - cmdstanpy - INFO - Chain [1] start processing\n",
      "17:34:44 - cmdstanpy - INFO - Chain [1] done processing\n",
      "17:34:47 - cmdstanpy - INFO - Chain [1] start processing\n",
      "17:34:47 - cmdstanpy - INFO - Chain [1] done processing\n",
      "17:34:50 - cmdstanpy - INFO - Chain [1] start processing\n",
      "17:34:50 - cmdstanpy - INFO - Chain [1] done processing\n",
      "17:34:53 - cmdstanpy - INFO - Chain [1] start processing\n",
      "17:34:53 - cmdstanpy - INFO - Chain [1] done processing\n",
      "17:34:57 - cmdstanpy - INFO - Chain [1] start processing\n",
      "17:34:57 - cmdstanpy - INFO - Chain [1] done processing\n",
      "17:35:00 - cmdstanpy - INFO - Chain [1] start processing\n",
      "17:35:00 - cmdstanpy - INFO - Chain [1] done processing\n",
      "17:35:03 - cmdstanpy - INFO - Chain [1] start processing\n",
      "17:35:03 - cmdstanpy - INFO - Chain [1] done processing\n",
      "17:35:07 - cmdstanpy - INFO - Chain [1] start processing\n",
      "17:35:07 - cmdstanpy - INFO - Chain [1] done processing\n",
      "17:35:10 - cmdstanpy - INFO - Chain [1] start processing\n",
      "17:35:10 - cmdstanpy - INFO - Chain [1] done processing\n",
      "17:35:13 - cmdstanpy - INFO - Chain [1] start processing\n",
      "17:35:14 - cmdstanpy - INFO - Chain [1] done processing\n",
      "17:35:17 - cmdstanpy - INFO - Chain [1] start processing\n",
      "17:35:17 - cmdstanpy - INFO - Chain [1] done processing\n",
      "17:35:20 - cmdstanpy - INFO - Chain [1] start processing\n",
      "17:35:20 - cmdstanpy - INFO - Chain [1] done processing\n",
      "17:35:23 - cmdstanpy - INFO - Chain [1] start processing\n",
      "17:35:23 - cmdstanpy - INFO - Chain [1] done processing\n",
      "17:35:26 - cmdstanpy - INFO - Chain [1] start processing\n",
      "17:35:26 - cmdstanpy - INFO - Chain [1] done processing\n",
      "17:35:30 - cmdstanpy - INFO - Chain [1] start processing\n",
      "17:35:30 - cmdstanpy - INFO - Chain [1] done processing\n",
      "17:35:33 - cmdstanpy - INFO - Chain [1] start processing\n",
      "17:35:33 - cmdstanpy - INFO - Chain [1] done processing\n",
      "17:35:37 - cmdstanpy - INFO - Chain [1] start processing\n",
      "17:35:37 - cmdstanpy - INFO - Chain [1] done processing\n",
      "17:35:40 - cmdstanpy - INFO - Chain [1] start processing\n",
      "17:35:40 - cmdstanpy - INFO - Chain [1] done processing\n",
      "17:35:44 - cmdstanpy - INFO - Chain [1] start processing\n",
      "17:35:44 - cmdstanpy - INFO - Chain [1] done processing\n",
      "17:35:47 - cmdstanpy - INFO - Chain [1] start processing\n",
      "17:35:47 - cmdstanpy - INFO - Chain [1] done processing\n",
      "17:35:50 - cmdstanpy - INFO - Chain [1] start processing\n",
      "17:35:51 - cmdstanpy - INFO - Chain [1] done processing\n",
      "17:35:54 - cmdstanpy - INFO - Chain [1] start processing\n",
      "17:35:54 - cmdstanpy - INFO - Chain [1] done processing\n",
      "17:35:57 - cmdstanpy - INFO - Chain [1] start processing\n",
      "17:35:57 - cmdstanpy - INFO - Chain [1] done processing\n",
      "17:36:01 - cmdstanpy - INFO - Chain [1] start processing\n",
      "17:36:01 - cmdstanpy - INFO - Chain [1] done processing\n",
      "17:36:04 - cmdstanpy - INFO - Chain [1] start processing\n",
      "17:36:04 - cmdstanpy - INFO - Chain [1] done processing\n",
      "17:36:07 - cmdstanpy - INFO - Chain [1] start processing\n",
      "17:36:07 - cmdstanpy - INFO - Chain [1] done processing\n",
      "17:36:10 - cmdstanpy - INFO - Chain [1] start processing\n",
      "17:36:11 - cmdstanpy - INFO - Chain [1] done processing\n",
      "17:36:14 - cmdstanpy - INFO - Chain [1] start processing\n",
      "17:36:14 - cmdstanpy - INFO - Chain [1] done processing\n",
      "17:36:17 - cmdstanpy - INFO - Chain [1] start processing\n",
      "17:36:17 - cmdstanpy - INFO - Chain [1] done processing\n",
      "17:36:20 - cmdstanpy - INFO - Chain [1] start processing\n",
      "17:36:20 - cmdstanpy - INFO - Chain [1] done processing\n",
      "17:36:24 - cmdstanpy - INFO - Chain [1] start processing\n",
      "17:36:24 - cmdstanpy - INFO - Chain [1] done processing\n",
      "17:36:27 - cmdstanpy - INFO - Chain [1] start processing\n",
      "17:36:27 - cmdstanpy - INFO - Chain [1] done processing\n",
      "17:36:31 - cmdstanpy - INFO - Chain [1] start processing\n",
      "17:36:31 - cmdstanpy - INFO - Chain [1] done processing\n",
      "17:36:34 - cmdstanpy - INFO - Chain [1] start processing\n",
      "17:36:35 - cmdstanpy - INFO - Chain [1] done processing\n",
      "17:36:38 - cmdstanpy - INFO - Chain [1] start processing\n",
      "17:36:38 - cmdstanpy - INFO - Chain [1] done processing\n",
      "17:36:41 - cmdstanpy - INFO - Chain [1] start processing\n",
      "17:36:41 - cmdstanpy - INFO - Chain [1] done processing\n",
      "17:36:45 - cmdstanpy - INFO - Chain [1] start processing\n",
      "17:36:45 - cmdstanpy - INFO - Chain [1] done processing\n",
      "17:36:48 - cmdstanpy - INFO - Chain [1] start processing\n",
      "17:36:48 - cmdstanpy - INFO - Chain [1] done processing\n",
      "17:36:51 - cmdstanpy - INFO - Chain [1] start processing\n",
      "17:36:51 - cmdstanpy - INFO - Chain [1] done processing\n",
      "17:36:55 - cmdstanpy - INFO - Chain [1] start processing\n",
      "17:36:55 - cmdstanpy - INFO - Chain [1] done processing\n",
      "17:36:58 - cmdstanpy - INFO - Chain [1] start processing\n",
      "17:36:58 - cmdstanpy - INFO - Chain [1] done processing\n",
      "17:37:01 - cmdstanpy - INFO - Chain [1] start processing\n",
      "17:37:02 - cmdstanpy - INFO - Chain [1] done processing\n",
      "17:37:05 - cmdstanpy - INFO - Chain [1] start processing\n",
      "17:37:05 - cmdstanpy - INFO - Chain [1] done processing\n",
      "17:37:08 - cmdstanpy - INFO - Chain [1] start processing\n",
      "17:37:08 - cmdstanpy - INFO - Chain [1] done processing\n",
      "17:37:12 - cmdstanpy - INFO - Chain [1] start processing\n",
      "17:37:12 - cmdstanpy - INFO - Chain [1] done processing\n",
      "17:37:15 - cmdstanpy - INFO - Chain [1] start processing\n",
      "17:37:15 - cmdstanpy - INFO - Chain [1] done processing\n",
      "17:37:18 - cmdstanpy - INFO - Chain [1] start processing\n",
      "17:37:18 - cmdstanpy - INFO - Chain [1] done processing\n",
      "17:37:21 - cmdstanpy - INFO - Chain [1] start processing\n",
      "17:37:22 - cmdstanpy - INFO - Chain [1] done processing\n",
      "17:37:24 - cmdstanpy - INFO - Chain [1] start processing\n",
      "17:37:25 - cmdstanpy - INFO - Chain [1] done processing\n",
      "17:37:28 - cmdstanpy - INFO - Chain [1] start processing\n",
      "17:37:28 - cmdstanpy - INFO - Chain [1] done processing\n",
      "17:37:31 - cmdstanpy - INFO - Chain [1] start processing\n",
      "17:37:31 - cmdstanpy - INFO - Chain [1] done processing\n",
      "17:37:34 - cmdstanpy - INFO - Chain [1] start processing\n",
      "17:37:35 - cmdstanpy - INFO - Chain [1] done processing\n",
      "17:37:38 - cmdstanpy - INFO - Chain [1] start processing\n",
      "17:37:38 - cmdstanpy - INFO - Chain [1] done processing\n",
      "17:37:41 - cmdstanpy - INFO - Chain [1] start processing\n",
      "17:37:41 - cmdstanpy - INFO - Chain [1] done processing\n",
      "17:37:44 - cmdstanpy - INFO - Chain [1] start processing\n",
      "17:37:45 - cmdstanpy - INFO - Chain [1] done processing\n",
      "17:37:48 - cmdstanpy - INFO - Chain [1] start processing\n",
      "17:37:48 - cmdstanpy - INFO - Chain [1] done processing\n",
      "17:37:51 - cmdstanpy - INFO - Chain [1] start processing\n",
      "17:37:51 - cmdstanpy - INFO - Chain [1] done processing\n",
      "17:37:54 - cmdstanpy - INFO - Chain [1] start processing\n",
      "17:37:54 - cmdstanpy - INFO - Chain [1] done processing\n",
      "17:37:57 - cmdstanpy - INFO - Chain [1] start processing\n",
      "17:38:05 - cmdstanpy - INFO - Chain [1] done processing\n",
      "17:38:09 - cmdstanpy - INFO - Chain [1] start processing\n",
      "17:38:09 - cmdstanpy - INFO - Chain [1] done processing\n",
      "17:38:12 - cmdstanpy - INFO - Chain [1] start processing\n",
      "17:38:13 - cmdstanpy - INFO - Chain [1] done processing\n",
      "17:38:16 - cmdstanpy - INFO - Chain [1] start processing\n",
      "17:38:16 - cmdstanpy - INFO - Chain [1] done processing\n",
      "17:38:19 - cmdstanpy - INFO - Chain [1] start processing\n",
      "17:38:19 - cmdstanpy - INFO - Chain [1] done processing\n"
     ]
    }
   ],
   "source": [
    "for product in products:\n",
    "    # Filter data for one product\n",
    "    df_product = df[df['prod_code'] == product]\n",
    "    \n",
    "    # Initialize and fit the model\n",
    "    m = Prophet()\n",
    "    m.fit(df_product)\n",
    "    \n",
    "    # Make future dataframe for prediction\n",
    "    future = m.make_future_dataframe(periods=365)  # Predict for next 365 days\n",
    "    \n",
    "    # Predict\n",
    "    forecast = m.predict(future)\n",
    "    # Log model\n",
    "    with mlflow.start_run():\n",
    "        mlflow.log_param(\"ProductCode\", product)\n",
    "        mlflow.pyfunc.log_model(\"model\", python_model=ProphetModel(m))"
   ]
  },
  {
   "cell_type": "code",
   "execution_count": null,
   "metadata": {},
   "outputs": [],
   "source": []
  }
 ],
 "metadata": {
  "kernelspec": {
   "display_name": "ml-flow",
   "language": "python",
   "name": "python3"
  },
  "language_info": {
   "codemirror_mode": {
    "name": "ipython",
    "version": 3
   },
   "file_extension": ".py",
   "mimetype": "text/x-python",
   "name": "python",
   "nbconvert_exporter": "python",
   "pygments_lexer": "ipython3",
   "version": "3.11.5"
  }
 },
 "nbformat": 4,
 "nbformat_minor": 2
}
