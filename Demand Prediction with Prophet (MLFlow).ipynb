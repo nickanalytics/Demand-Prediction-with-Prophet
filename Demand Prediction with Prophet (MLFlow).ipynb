{
 "cells": [
  {
   "cell_type": "code",
   "execution_count": 1,
   "metadata": {},
   "outputs": [
    {
     "name": "stderr",
     "output_type": "stream",
     "text": [
      "c:\\Users\\nico_\\anaconda3\\envs\\ml-flow\\Lib\\site-packages\\tqdm\\auto.py:21: TqdmWarning: IProgress not found. Please update jupyter and ipywidgets. See https://ipywidgets.readthedocs.io/en/stable/user_install.html\n",
      "  from .autonotebook import tqdm as notebook_tqdm\n"
     ]
    }
   ],
   "source": [
    "import pandas as pd\n",
    "from prophet import Prophet\n",
    "import mlflow\n",
    "import warnings\n",
    "import matplotlib.pyplot as plt\n",
    "warnings.filterwarnings(\"ignore\")"
   ]
  },
  {
   "cell_type": "code",
   "execution_count": 2,
   "metadata": {},
   "outputs": [
    {
     "name": "stdout",
     "output_type": "stream",
     "text": [
      "{'name': 'mlflow-env', 'channels': ['conda-forge'], 'dependencies': ['python=3.11.5', 'pip<=23.3.1', {'pip': ['mlflow==2.8.1', 'prophet==1.1.5']}]}\n",
      "['prophet==1.1.5']\n"
     ]
    }
   ],
   "source": [
    "print(mlflow.prophet.get_default_conda_env())\n",
    "print(mlflow.prophet.get_default_pip_requirements())"
   ]
  },
  {
   "cell_type": "code",
   "execution_count": 3,
   "metadata": {},
   "outputs": [],
   "source": [
    "class ProphetModel(mlflow.pyfunc.PythonModel):\n",
    "    def __init__(self, model):\n",
    "        self.model = model\n",
    "        super().__init__()\n",
    "\n",
    "    def predict(self, context, model_input):\n",
    "        future = self.model.make_future_dataframe(periods=model_input['periods'][0])\n",
    "        return self.model.predict(future)"
   ]
  },
  {
   "cell_type": "code",
   "execution_count": 7,
   "metadata": {},
   "outputs": [],
   "source": [
    "df = pd.read_csv(r'C:\\Users\\nico_\\OneDrive\\Portfolio\\Stock Level Predictions\\data\\sales.csv', encoding='latin1')\n",
    "\n",
    "# Assuming 'Order Date' is your date column and 'Order Quantity' is what you want to predict\n",
    "df = df[['date', 'qty', 'prod_code']]\n",
    "df.columns = ['ds', 'y', 'prod_code']\n",
    "\n",
    "# Get list of unique products\n",
    "products = df['prod_code'].unique()"
   ]
  },
  {
   "cell_type": "code",
   "execution_count": 8,
   "metadata": {},
   "outputs": [
    {
     "data": {
      "text/html": [
       "<div>\n",
       "<style scoped>\n",
       "    .dataframe tbody tr th:only-of-type {\n",
       "        vertical-align: middle;\n",
       "    }\n",
       "\n",
       "    .dataframe tbody tr th {\n",
       "        vertical-align: top;\n",
       "    }\n",
       "\n",
       "    .dataframe thead th {\n",
       "        text-align: right;\n",
       "    }\n",
       "</style>\n",
       "<table border=\"1\" class=\"dataframe\">\n",
       "  <thead>\n",
       "    <tr style=\"text-align: right;\">\n",
       "      <th></th>\n",
       "      <th>ds</th>\n",
       "      <th>y</th>\n",
       "      <th>prod_code</th>\n",
       "    </tr>\n",
       "  </thead>\n",
       "  <tbody>\n",
       "    <tr>\n",
       "      <th>0</th>\n",
       "      <td>2017-03-09</td>\n",
       "      <td>5</td>\n",
       "      <td>Go-Wo-NMDVGP</td>\n",
       "    </tr>\n",
       "    <tr>\n",
       "      <th>1</th>\n",
       "      <td>2015-01-13</td>\n",
       "      <td>5</td>\n",
       "      <td>Go-Wo-NMDVGP</td>\n",
       "    </tr>\n",
       "    <tr>\n",
       "      <th>2</th>\n",
       "      <td>2015-01-28</td>\n",
       "      <td>5</td>\n",
       "      <td>Go-Wo-NMDVGP</td>\n",
       "    </tr>\n",
       "    <tr>\n",
       "      <th>3</th>\n",
       "      <td>2015-01-21</td>\n",
       "      <td>5</td>\n",
       "      <td>Go-Wo-NMDVGP</td>\n",
       "    </tr>\n",
       "    <tr>\n",
       "      <th>4</th>\n",
       "      <td>2015-01-24</td>\n",
       "      <td>5</td>\n",
       "      <td>Go-Wo-NMDVGP</td>\n",
       "    </tr>\n",
       "  </tbody>\n",
       "</table>\n",
       "</div>"
      ],
      "text/plain": [
       "           ds  y     prod_code\n",
       "0  2017-03-09  5  Go-Wo-NMDVGP\n",
       "1  2015-01-13  5  Go-Wo-NMDVGP\n",
       "2  2015-01-28  5  Go-Wo-NMDVGP\n",
       "3  2015-01-21  5  Go-Wo-NMDVGP\n",
       "4  2015-01-24  5  Go-Wo-NMDVGP"
      ]
     },
     "execution_count": 8,
     "metadata": {},
     "output_type": "execute_result"
    }
   ],
   "source": [
    "df.head()"
   ]
  },
  {
   "cell_type": "code",
   "execution_count": 9,
   "metadata": {},
   "outputs": [
    {
     "data": {
      "text/plain": [
       "array(['Go-Wo-NMDVGP', 'Fa-In-OMNLV', 'Go-Sh-UAGTSSR', 'Ou-Tr-GIUBGT',\n",
       "       'Go-Gi-NMDWWB', 'Fo-Ca-NWTS', 'Ou-El-TPVGB', 'Ou-El-TPVHNPG',\n",
       "       'Ou-Go-HWHGG', 'Go-Gi-aYGBAMS', 'Ou-Tr-GIWMO3CAG', 'Ou-Go-C8SB',\n",
       "       'Ou-Go-LWESGP', 'Fo-El-UAWIPVS', 'Ou-Tr-GIIGT', 'Ou-El-BeSDNSD',\n",
       "       'Fo-El-UAWIS', 'Ou-Go-GIWIGG', 'Go-Gi-TBTDJ', 'Fo-El-UAKMS',\n",
       "       'Fi-Ba-aMFMTFSC', 'Ou-Go-HWSFGG', 'Fi-Te-NMC2S', 'Ou-El-BeSDNC',\n",
       "       'Ou-Go-CRCB', 'Fo-Fi-UAHSMDB', 'Ou-El-BeSDNT', 'Fo-Bo-UAWMGSRS',\n",
       "       'Ou-Go-GIWMOGG', 'Go-Sh-CMPATT', 'Fa-Hu-EAHS', 'Fo-El-UAMCESS',\n",
       "       'Ou-Go-TFW2XH', 'Ou-Go-HMHGG', 'Fi-Ho-NDCS6P', 'Fi-Ba-aKFMFSC',\n",
       "       'Ou-El-TPVHNGB', 'Fo-As-NMFT5TTS', 'Fi-So-ETM2', 'Ou-Ki-PFHRM',\n",
       "       'Fo-Bo-BWG6RS', 'Ou-Wo-TWSIP', 'Fo-Bo-NWF5TFP4TS', 'Ou-Go-LWMPGS',\n",
       "       'Ou-Go-BBMPC', 'Ou-Me-MWGSHS', 'Fa-Hu-TNFWRB', 'Ou-Go-BBBH',\n",
       "       'Ou-Ac-TGSFGPG', 'Fi-Ho-NWLVT', 'Ou-Ac-TGTLPG', 'Go-Gi-aMGBCAT',\n",
       "       'Ou-Ac-TGNEPPG', 'Ou-Ac-TGTVPG', 'Ou-Ac-TGSLCPG', 'Ou-Ac-TGPSPG',\n",
       "       'Fi-La-UAMTIT', 'Fi-La-NKGSKVBS', 'Ou-Go-LWAGP', 'Ou-Ki-FTOWA&ST',\n",
       "       'Ou-Wo-MPPP', 'Fo-Ca-NMF5RS', 'Ap-Cl-PFPRD', 'Ou-Me-MWGSWH',\n",
       "       'Ou-Go-ORGS', 'Ou-Go-TWRSR', 'Fi-Ba-aB2OMB', 'Ou-Me-MMAOFTRS',\n",
       "       'Fo-St-YDAHM4R', 'Ou-Ki-MAHRMW', 'Ou-Go-T2PSB', 'Fa-Hu-iNAM',\n",
       "       'Ou-Ki-PLAT', 'Go-Sh-NMKIELBS', 'Ou-Wo-CGCMCW5', 'Ou-Go-LWBGD',\n",
       "       'Ou-Tr-GASGGW', 'Fi-So-NMFMTS', 'Ou-Go-TSWTC', 'Ou-Ki-GVGW',\n",
       "       'Ou-Me-MWSMWHB', 'Ou-Go-CGW5RCSC', 'Ou-Go-TCGTC', 'Fa-Wa-PM1K',\n",
       "       'Bo-Bo-SB', 'Ap-Ba-Bs', 'Di-CD-Cor', 'Te-Ca-WC', 'Te-Co-Ice',\n",
       "       'Ap-Cr-Pc', 'Di-DV-D', 'Ou-Ga-Lm', 'Pe-Pe-Ads', 'Fi-Sp-Sw',\n",
       "       'Fa-To-T', 'Ap-Wo-Sd', 'He-He-Fak', 'Ap-Me-Mgs', 'Di-Mu-Rm',\n",
       "       'Ap-Cl-TG1', 'Fi-Ba-DGC2HB2', 'Fo-St-GHBEC', 'Fi-Ba-DBI2PH',\n",
       "       'Ou-Ki-GF9GW', 'Ou-Ki-GASGGW', 'Fi-Ho-SMSSCI', 'Ap-Ch-Ch',\n",
       "       'Di-Vi-Fvg', 'Fa-Ca-DWSCCB', 'Fa-Wa-PS1K', 'Fa-Fi-F&SS1GFS',\n",
       "       'Ap-Me-NMCE2TFC'], dtype=object)"
      ]
     },
     "execution_count": 9,
     "metadata": {},
     "output_type": "execute_result"
    }
   ],
   "source": [
    "products"
   ]
  },
  {
   "cell_type": "code",
   "execution_count": 10,
   "metadata": {},
   "outputs": [
    {
     "name": "stderr",
     "output_type": "stream",
     "text": [
      "20:04:24 - cmdstanpy - INFO - Chain [1] start processing\n",
      "20:04:24 - cmdstanpy - INFO - Chain [1] done processing\n",
      "20:04:28 - cmdstanpy - INFO - Chain [1] start processing\n",
      "20:04:28 - cmdstanpy - INFO - Chain [1] done processing\n",
      "20:04:32 - cmdstanpy - INFO - Chain [1] start processing\n",
      "20:04:32 - cmdstanpy - INFO - Chain [1] done processing\n",
      "20:04:35 - cmdstanpy - INFO - Chain [1] start processing\n",
      "20:04:35 - cmdstanpy - INFO - Chain [1] done processing\n",
      "20:04:38 - cmdstanpy - INFO - Chain [1] start processing\n",
      "20:04:38 - cmdstanpy - INFO - Chain [1] done processing\n",
      "20:04:41 - cmdstanpy - INFO - Chain [1] start processing\n",
      "20:04:42 - cmdstanpy - INFO - Chain [1] done processing\n",
      "20:04:45 - cmdstanpy - INFO - Chain [1] start processing\n",
      "20:04:45 - cmdstanpy - INFO - Chain [1] done processing\n",
      "20:04:48 - cmdstanpy - INFO - Chain [1] start processing\n",
      "20:04:48 - cmdstanpy - INFO - Chain [1] done processing\n",
      "20:04:51 - cmdstanpy - INFO - Chain [1] start processing\n",
      "20:04:51 - cmdstanpy - INFO - Chain [1] done processing\n",
      "20:04:55 - cmdstanpy - INFO - Chain [1] start processing\n",
      "20:04:55 - cmdstanpy - INFO - Chain [1] done processing\n",
      "20:04:58 - cmdstanpy - INFO - Chain [1] start processing\n",
      "20:04:58 - cmdstanpy - INFO - Chain [1] done processing\n",
      "20:05:01 - cmdstanpy - INFO - Chain [1] start processing\n",
      "20:05:02 - cmdstanpy - INFO - Chain [1] done processing\n",
      "20:05:05 - cmdstanpy - INFO - Chain [1] start processing\n",
      "20:05:05 - cmdstanpy - INFO - Chain [1] done processing\n",
      "20:05:08 - cmdstanpy - INFO - Chain [1] start processing\n",
      "20:05:08 - cmdstanpy - INFO - Chain [1] done processing\n",
      "20:05:11 - cmdstanpy - INFO - Chain [1] start processing\n",
      "20:05:11 - cmdstanpy - INFO - Chain [1] done processing\n",
      "20:05:15 - cmdstanpy - INFO - Chain [1] start processing\n",
      "20:05:15 - cmdstanpy - INFO - Chain [1] done processing\n",
      "20:05:18 - cmdstanpy - INFO - Chain [1] start processing\n",
      "20:05:18 - cmdstanpy - INFO - Chain [1] done processing\n",
      "20:05:21 - cmdstanpy - INFO - Chain [1] start processing\n",
      "20:05:22 - cmdstanpy - INFO - Chain [1] done processing\n",
      "20:05:25 - cmdstanpy - INFO - Chain [1] start processing\n",
      "20:05:25 - cmdstanpy - INFO - Chain [1] done processing\n",
      "20:05:28 - cmdstanpy - INFO - Chain [1] start processing\n",
      "20:05:28 - cmdstanpy - INFO - Chain [1] done processing\n",
      "20:05:31 - cmdstanpy - INFO - Chain [1] start processing\n",
      "20:05:32 - cmdstanpy - INFO - Chain [1] done processing\n",
      "20:05:35 - cmdstanpy - INFO - Chain [1] start processing\n",
      "20:05:35 - cmdstanpy - INFO - Chain [1] done processing\n",
      "20:05:38 - cmdstanpy - INFO - Chain [1] start processing\n",
      "20:05:38 - cmdstanpy - INFO - Chain [1] done processing\n",
      "20:05:41 - cmdstanpy - INFO - Chain [1] start processing\n",
      "20:05:41 - cmdstanpy - INFO - Chain [1] done processing\n",
      "20:05:44 - cmdstanpy - INFO - Chain [1] start processing\n",
      "20:05:45 - cmdstanpy - INFO - Chain [1] done processing\n",
      "20:05:48 - cmdstanpy - INFO - Chain [1] start processing\n",
      "20:05:48 - cmdstanpy - INFO - Chain [1] done processing\n",
      "20:05:51 - cmdstanpy - INFO - Chain [1] start processing\n",
      "20:05:51 - cmdstanpy - INFO - Chain [1] done processing\n",
      "20:05:55 - cmdstanpy - INFO - Chain [1] start processing\n",
      "20:05:55 - cmdstanpy - INFO - Chain [1] done processing\n",
      "20:05:58 - cmdstanpy - INFO - Chain [1] start processing\n",
      "20:05:58 - cmdstanpy - INFO - Chain [1] done processing\n",
      "20:06:01 - cmdstanpy - INFO - Chain [1] start processing\n",
      "20:06:01 - cmdstanpy - INFO - Chain [1] done processing\n",
      "20:06:04 - cmdstanpy - INFO - Chain [1] start processing\n",
      "20:06:05 - cmdstanpy - INFO - Chain [1] done processing\n",
      "20:06:08 - cmdstanpy - INFO - Chain [1] start processing\n",
      "20:06:08 - cmdstanpy - INFO - Chain [1] done processing\n",
      "20:06:11 - cmdstanpy - INFO - Chain [1] start processing\n",
      "20:06:11 - cmdstanpy - INFO - Chain [1] done processing\n",
      "20:06:14 - cmdstanpy - INFO - Chain [1] start processing\n",
      "20:06:15 - cmdstanpy - INFO - Chain [1] done processing\n",
      "20:06:18 - cmdstanpy - INFO - Chain [1] start processing\n",
      "20:06:18 - cmdstanpy - INFO - Chain [1] done processing\n",
      "20:06:21 - cmdstanpy - INFO - Chain [1] start processing\n",
      "20:06:21 - cmdstanpy - INFO - Chain [1] done processing\n",
      "20:06:25 - cmdstanpy - INFO - Chain [1] start processing\n",
      "20:06:25 - cmdstanpy - INFO - Chain [1] done processing\n",
      "20:06:28 - cmdstanpy - INFO - Chain [1] start processing\n",
      "20:06:28 - cmdstanpy - INFO - Chain [1] done processing\n",
      "20:06:31 - cmdstanpy - INFO - Chain [1] start processing\n",
      "20:06:31 - cmdstanpy - INFO - Chain [1] done processing\n",
      "20:06:34 - cmdstanpy - INFO - Chain [1] start processing\n",
      "20:06:35 - cmdstanpy - INFO - Chain [1] done processing\n",
      "20:06:38 - cmdstanpy - INFO - Chain [1] start processing\n",
      "20:06:38 - cmdstanpy - INFO - Chain [1] done processing\n",
      "20:06:41 - cmdstanpy - INFO - Chain [1] start processing\n",
      "20:06:41 - cmdstanpy - INFO - Chain [1] done processing\n",
      "20:06:45 - cmdstanpy - INFO - Chain [1] start processing\n",
      "20:06:45 - cmdstanpy - INFO - Chain [1] done processing\n",
      "20:06:48 - cmdstanpy - INFO - Chain [1] start processing\n",
      "20:06:48 - cmdstanpy - INFO - Chain [1] done processing\n",
      "20:06:52 - cmdstanpy - INFO - Chain [1] start processing\n",
      "20:06:52 - cmdstanpy - INFO - Chain [1] done processing\n",
      "20:06:55 - cmdstanpy - INFO - Chain [1] start processing\n",
      "20:06:55 - cmdstanpy - INFO - Chain [1] done processing\n",
      "20:06:59 - cmdstanpy - INFO - Chain [1] start processing\n",
      "20:06:59 - cmdstanpy - INFO - Chain [1] done processing\n",
      "20:07:02 - cmdstanpy - INFO - Chain [1] start processing\n",
      "20:07:02 - cmdstanpy - INFO - Chain [1] done processing\n",
      "20:07:05 - cmdstanpy - INFO - Chain [1] start processing\n",
      "20:07:05 - cmdstanpy - INFO - Chain [1] done processing\n",
      "20:07:09 - cmdstanpy - INFO - Chain [1] start processing\n",
      "20:07:09 - cmdstanpy - INFO - Chain [1] done processing\n",
      "20:07:12 - cmdstanpy - INFO - Chain [1] start processing\n",
      "20:07:12 - cmdstanpy - INFO - Chain [1] done processing\n",
      "20:07:15 - cmdstanpy - INFO - Chain [1] start processing\n",
      "20:07:15 - cmdstanpy - INFO - Chain [1] done processing\n",
      "20:07:19 - cmdstanpy - INFO - Chain [1] start processing\n",
      "20:07:19 - cmdstanpy - INFO - Chain [1] done processing\n",
      "20:07:23 - cmdstanpy - INFO - Chain [1] start processing\n",
      "20:07:23 - cmdstanpy - INFO - Chain [1] done processing\n",
      "20:07:27 - cmdstanpy - INFO - Chain [1] start processing\n",
      "20:07:27 - cmdstanpy - INFO - Chain [1] done processing\n",
      "20:07:30 - cmdstanpy - INFO - Chain [1] start processing\n",
      "20:07:30 - cmdstanpy - INFO - Chain [1] done processing\n",
      "20:07:33 - cmdstanpy - INFO - Chain [1] start processing\n",
      "20:07:33 - cmdstanpy - INFO - Chain [1] done processing\n",
      "20:07:36 - cmdstanpy - INFO - Chain [1] start processing\n",
      "20:07:36 - cmdstanpy - INFO - Chain [1] done processing\n",
      "20:07:40 - cmdstanpy - INFO - Chain [1] start processing\n",
      "20:07:47 - cmdstanpy - INFO - Chain [1] done processing\n",
      "20:07:50 - cmdstanpy - INFO - Chain [1] start processing\n",
      "20:07:50 - cmdstanpy - INFO - Chain [1] done processing\n",
      "20:07:54 - cmdstanpy - INFO - Chain [1] start processing\n",
      "20:07:54 - cmdstanpy - INFO - Chain [1] done processing\n",
      "20:07:58 - cmdstanpy - INFO - Chain [1] start processing\n",
      "20:07:58 - cmdstanpy - INFO - Chain [1] done processing\n",
      "20:08:01 - cmdstanpy - INFO - Chain [1] start processing\n",
      "20:08:02 - cmdstanpy - INFO - Chain [1] done processing\n"
     ]
    }
   ],
   "source": [
    "for product in products:\n",
    "    # Filter data for one product\n",
    "    df_product = df[df['prod_code'] == product]\n",
    "    \n",
    "    # Initialize and fit the model\n",
    "    m = Prophet()\n",
    "    m.fit(df_product)\n",
    "    \n",
    "    # Make future dataframe for prediction\n",
    "    future = m.make_future_dataframe(periods=365)  # Predict for next 365 days\n",
    "    \n",
    "    # Predict\n",
    "    forecast = m.predict(future)\n",
    "    # Log model\n",
    "    with mlflow.start_run():\n",
    "        mlflow.log_param(\"ProductCode\", product)\n",
    "        mlflow.pyfunc.log_model(\"model\", python_model=ProphetModel(m))\n",
    "        # Log future dataframe as an artifact\n",
    "        future.to_csv(\"future.csv\", index=False)\n",
    "        mlflow.log_artifact(\"future.csv\")\n"
   ]
  },
  {
   "cell_type": "code",
   "execution_count": 9,
   "metadata": {},
   "outputs": [
    {
     "ename": "KeyError",
     "evalue": "'yhat'",
     "output_type": "error",
     "traceback": [
      "\u001b[1;31m---------------------------------------------------------------------------\u001b[0m",
      "\u001b[1;31mKeyError\u001b[0m                                  Traceback (most recent call last)",
      "File \u001b[1;32mc:\\Users\\nico_\\anaconda3\\envs\\ml-flow\\Lib\\site-packages\\pandas\\core\\indexes\\base.py:3790\u001b[0m, in \u001b[0;36mIndex.get_loc\u001b[1;34m(self, key)\u001b[0m\n\u001b[0;32m   3789\u001b[0m \u001b[38;5;28;01mtry\u001b[39;00m:\n\u001b[1;32m-> 3790\u001b[0m     \u001b[38;5;28;01mreturn\u001b[39;00m \u001b[38;5;28mself\u001b[39m\u001b[38;5;241m.\u001b[39m_engine\u001b[38;5;241m.\u001b[39mget_loc(casted_key)\n\u001b[0;32m   3791\u001b[0m \u001b[38;5;28;01mexcept\u001b[39;00m \u001b[38;5;167;01mKeyError\u001b[39;00m \u001b[38;5;28;01mas\u001b[39;00m err:\n",
      "File \u001b[1;32mindex.pyx:152\u001b[0m, in \u001b[0;36mpandas._libs.index.IndexEngine.get_loc\u001b[1;34m()\u001b[0m\n",
      "File \u001b[1;32mindex.pyx:181\u001b[0m, in \u001b[0;36mpandas._libs.index.IndexEngine.get_loc\u001b[1;34m()\u001b[0m\n",
      "File \u001b[1;32mpandas\\_libs\\hashtable_class_helper.pxi:7080\u001b[0m, in \u001b[0;36mpandas._libs.hashtable.PyObjectHashTable.get_item\u001b[1;34m()\u001b[0m\n",
      "File \u001b[1;32mpandas\\_libs\\hashtable_class_helper.pxi:7088\u001b[0m, in \u001b[0;36mpandas._libs.hashtable.PyObjectHashTable.get_item\u001b[1;34m()\u001b[0m\n",
      "\u001b[1;31mKeyError\u001b[0m: 'yhat'",
      "\nThe above exception was the direct cause of the following exception:\n",
      "\u001b[1;31mKeyError\u001b[0m                                  Traceback (most recent call last)",
      "Cell \u001b[1;32mIn[9], line 6\u001b[0m\n\u001b[0;32m      4\u001b[0m future \u001b[38;5;241m=\u001b[39m pd\u001b[38;5;241m.\u001b[39mread_csv(\u001b[38;5;124mr\u001b[39m\u001b[38;5;124m\"\u001b[39m\u001b[38;5;124mC:\u001b[39m\u001b[38;5;124m\\\u001b[39m\u001b[38;5;124mUsers\u001b[39m\u001b[38;5;124m\\\u001b[39m\u001b[38;5;124mnico_\u001b[39m\u001b[38;5;124m\\\u001b[39m\u001b[38;5;124mOneDrive\u001b[39m\u001b[38;5;124m\\\u001b[39m\u001b[38;5;124mPortfolio\u001b[39m\u001b[38;5;124m\\\u001b[39m\u001b[38;5;124mStock Level Predictions\u001b[39m\u001b[38;5;124m\\\u001b[39m\u001b[38;5;124mmlruns\u001b[39m\u001b[38;5;124m\\\u001b[39m\u001b[38;5;124m397427519765463275\u001b[39m\u001b[38;5;124m\\\u001b[39m\u001b[38;5;124m0afd40de0ef441bab9b4e554ca2f9d2a\u001b[39m\u001b[38;5;124m\\\u001b[39m\u001b[38;5;124martifacts\u001b[39m\u001b[38;5;124m\\\u001b[39m\u001b[38;5;124mfuture.csv\u001b[39m\u001b[38;5;124m\"\u001b[39m, encoding\u001b[38;5;241m=\u001b[39m\u001b[38;5;124m'\u001b[39m\u001b[38;5;124mlatin1\u001b[39m\u001b[38;5;124m'\u001b[39m)\n\u001b[0;32m      5\u001b[0m \u001b[38;5;66;03m# Plot the future dataframe\u001b[39;00m\n\u001b[1;32m----> 6\u001b[0m plt\u001b[38;5;241m.\u001b[39mplot(future[\u001b[38;5;124m\"\u001b[39m\u001b[38;5;124mds\u001b[39m\u001b[38;5;124m\"\u001b[39m], future[\u001b[38;5;124m\"\u001b[39m\u001b[38;5;124myhat\u001b[39m\u001b[38;5;124m\"\u001b[39m])\n\u001b[0;32m      7\u001b[0m plt\u001b[38;5;241m.\u001b[39mxlabel(\u001b[38;5;124m\"\u001b[39m\u001b[38;5;124mDate\u001b[39m\u001b[38;5;124m\"\u001b[39m)\n\u001b[0;32m      8\u001b[0m plt\u001b[38;5;241m.\u001b[39mylabel(\u001b[38;5;124m\"\u001b[39m\u001b[38;5;124mForecast\u001b[39m\u001b[38;5;124m\"\u001b[39m)\n",
      "File \u001b[1;32mc:\\Users\\nico_\\anaconda3\\envs\\ml-flow\\Lib\\site-packages\\pandas\\core\\frame.py:3896\u001b[0m, in \u001b[0;36mDataFrame.__getitem__\u001b[1;34m(self, key)\u001b[0m\n\u001b[0;32m   3894\u001b[0m \u001b[38;5;28;01mif\u001b[39;00m \u001b[38;5;28mself\u001b[39m\u001b[38;5;241m.\u001b[39mcolumns\u001b[38;5;241m.\u001b[39mnlevels \u001b[38;5;241m>\u001b[39m \u001b[38;5;241m1\u001b[39m:\n\u001b[0;32m   3895\u001b[0m     \u001b[38;5;28;01mreturn\u001b[39;00m \u001b[38;5;28mself\u001b[39m\u001b[38;5;241m.\u001b[39m_getitem_multilevel(key)\n\u001b[1;32m-> 3896\u001b[0m indexer \u001b[38;5;241m=\u001b[39m \u001b[38;5;28mself\u001b[39m\u001b[38;5;241m.\u001b[39mcolumns\u001b[38;5;241m.\u001b[39mget_loc(key)\n\u001b[0;32m   3897\u001b[0m \u001b[38;5;28;01mif\u001b[39;00m is_integer(indexer):\n\u001b[0;32m   3898\u001b[0m     indexer \u001b[38;5;241m=\u001b[39m [indexer]\n",
      "File \u001b[1;32mc:\\Users\\nico_\\anaconda3\\envs\\ml-flow\\Lib\\site-packages\\pandas\\core\\indexes\\base.py:3797\u001b[0m, in \u001b[0;36mIndex.get_loc\u001b[1;34m(self, key)\u001b[0m\n\u001b[0;32m   3792\u001b[0m     \u001b[38;5;28;01mif\u001b[39;00m \u001b[38;5;28misinstance\u001b[39m(casted_key, \u001b[38;5;28mslice\u001b[39m) \u001b[38;5;129;01mor\u001b[39;00m (\n\u001b[0;32m   3793\u001b[0m         \u001b[38;5;28misinstance\u001b[39m(casted_key, abc\u001b[38;5;241m.\u001b[39mIterable)\n\u001b[0;32m   3794\u001b[0m         \u001b[38;5;129;01mand\u001b[39;00m \u001b[38;5;28many\u001b[39m(\u001b[38;5;28misinstance\u001b[39m(x, \u001b[38;5;28mslice\u001b[39m) \u001b[38;5;28;01mfor\u001b[39;00m x \u001b[38;5;129;01min\u001b[39;00m casted_key)\n\u001b[0;32m   3795\u001b[0m     ):\n\u001b[0;32m   3796\u001b[0m         \u001b[38;5;28;01mraise\u001b[39;00m InvalidIndexError(key)\n\u001b[1;32m-> 3797\u001b[0m     \u001b[38;5;28;01mraise\u001b[39;00m \u001b[38;5;167;01mKeyError\u001b[39;00m(key) \u001b[38;5;28;01mfrom\u001b[39;00m \u001b[38;5;21;01merr\u001b[39;00m\n\u001b[0;32m   3798\u001b[0m \u001b[38;5;28;01mexcept\u001b[39;00m \u001b[38;5;167;01mTypeError\u001b[39;00m:\n\u001b[0;32m   3799\u001b[0m     \u001b[38;5;66;03m# If we have a listlike key, _check_indexing_error will raise\u001b[39;00m\n\u001b[0;32m   3800\u001b[0m     \u001b[38;5;66;03m#  InvalidIndexError. Otherwise we fall through and re-raise\u001b[39;00m\n\u001b[0;32m   3801\u001b[0m     \u001b[38;5;66;03m#  the TypeError.\u001b[39;00m\n\u001b[0;32m   3802\u001b[0m     \u001b[38;5;28mself\u001b[39m\u001b[38;5;241m.\u001b[39m_check_indexing_error(key)\n",
      "\u001b[1;31mKeyError\u001b[0m: 'yhat'"
     ]
    }
   ],
   "source": [
    "# Get the artifact location of a run by run id\n",
    "# artifact_uri = mlflow.get_artifact_uri('dbe54bcc19e04a07bb90c78b592fbb92')\n",
    "# Load the future dataframe from the CSV file\n",
    "future = pd.read_csv(r\"C:\\Users\\nico_\\OneDrive\\Portfolio\\Stock Level Predictions\\mlruns\\397427519765463275\\0afd40de0ef441bab9b4e554ca2f9d2a\\artifacts\\future.csv\", encoding='latin1')\n",
    "# Plot the future dataframe\n",
    "plt.plot(future[\"ds\"], future[\"yhat\"])\n",
    "plt.xlabel(\"Date\")\n",
    "plt.ylabel(\"Forecast\")\n",
    "plt.title(\"Future Forecast for Product Code \" + product)\n",
    "plt.show()"
   ]
  }
 ],
 "metadata": {
  "kernelspec": {
   "display_name": "ml-flow",
   "language": "python",
   "name": "python3"
  },
  "language_info": {
   "codemirror_mode": {
    "name": "ipython",
    "version": 3
   },
   "file_extension": ".py",
   "mimetype": "text/x-python",
   "name": "python",
   "nbconvert_exporter": "python",
   "pygments_lexer": "ipython3",
   "version": "3.11.5"
  }
 },
 "nbformat": 4,
 "nbformat_minor": 2
}
